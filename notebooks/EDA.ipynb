{
 "cells": [
  {
   "cell_type": "markdown",
   "metadata": {},
   "source": [
    "# **Exploratory Data Analysis (EDA)**\n",
    "This [jupyter notebook](https://jupyter.org/) combines cleaned data and applies the following EDA:\n",
    "\n",
    "* [Line plot](https://seaborn.pydata.org/generated/seaborn.lineplot.html) of annual variation of expenditures\n",
    "* [Violin plot](https://seaborn.pydata.org/generated/seaborn.violinplot.html) of distribution of expenditures\n",
    "* [Bar plot](https://seaborn.pydata.org/generated/seaborn.barplot.html) for the top 5 countries with highest/least expenditures\n",
    "* [Principal component analysis](https://scikit-learn.org/stable/modules/generated/sklearn.decomposition.PCA.html) of feature variables\n",
    "* [Heatmap](https://seaborn.pydata.org/generated/seaborn.heatmap.html) of all and specific feature variables\n",
    "* [World distribution](https://geopandas.org/en/stable/docs/user_guide/mapping.html) of expenditures and indicators\n",
    "\n",
    "**Sources used**\n",
    "* **HEALTH EXPENDITURE**: Health expenditure per country as % GDP (gross domestic product) within 2010-2019.\n",
    "    * [DataBank | World Development Indicators](https://databank.worldbank.org/home) (provided by the [World Bank](https://www.worldbank.org/en/home))\n",
    "    * Data can be downloaded [manually](https://databank.worldbank.org/reports.aspx?source=2&series=SH.XPD.CHEX.GD.ZS&country=#) (no registration required)\n",
    "    * See data policy [here](https://www.worldbank.org/en/about/legal/terms-of-use-for-datasets) (data provided under the [CC BY 4.0 licence](https://creativecommons.org/licenses/by/4.0/))\n",
    "* **ENVIRONMENTAL EXPENDITURE**: Environmental expenditure per country as % GDP (gross domestic product) within 2010-2019.\n",
    "    * [Climate Change Dashboard](https://climatedata.imf.org/pages/access-data) (provided by the [International Monetary Fund](https://www.imf.org/en/Home))\n",
    "    * Data can be downloaded [manually](https://opendata.arcgis.com/datasets/d22a6decd9b147fd9040f793082b219b_0.csv) (no registration required).\n",
    "    * See data policy [here](https://www.imf.org/external/terms.htm) (usage allowed for personal, non-commercal usage)\n",
    "* **ENVIRONMENTAL BURDEN OF DISEASE INDICATORS**: Environmental burden of disease indicators per country as per 100,000 within 2010-2019.\n",
    "    * [Institute for Health Metrics and Evaluation](https://www.healthdata.org/) (provided by the [University of Washington](https://www.washington.edu/))\n",
    "    * Data can be downloaded [manually](https://vizhub.healthdata.org/gbd-results/) (registration of user account is necessary)\n",
    "    * See data policy [here](https://www.healthdata.org/data-tools-practices/data-practices/terms-and-conditions) (data provided under a [CC BY-NC-ND 4.0 licence](https://creativecommons.org/licenses/by-nc-nd/4.0/))"
   ]
  },
  {
   "cell_type": "markdown",
   "metadata": {},
   "source": [
    "# **LOAD DATA**"
   ]
  },
  {
   "cell_type": "code",
   "execution_count": null,
   "metadata": {},
   "outputs": [],
   "source": [
    "# Necessary packages\n",
    "import os\n",
    "import shutil\n",
    "import json\n",
    "import pandas as pd\n",
    "import numpy as np\n",
    "import matplotlib.pyplot as plt\n",
    "from matplotlib.gridspec import GridSpec\n",
    "import seaborn as sns\n",
    "from IPython.display import display\n",
    "from sklearn.decomposition import PCA\n",
    "from adjustText import adjust_text\n",
    "import geopandas as gpd\n",
    "import requests\n",
    "import pycountry as pyco\n",
    "import subprocess\n",
    "import sys\n",
    "sys.path.insert(0, '../code')\n",
    "import features.data_delivery as dd # .py script stored in ../code/features folder\n",
    "import features.data_cleaning as dc # .py script stored in ../code/features folder"
   ]
  },
  {
   "cell_type": "code",
   "execution_count": null,
   "metadata": {},
   "outputs": [],
   "source": [
    "# Load necessary dictionaries for country name and variable mapping\n",
    "# This subprocess wil create two .json files in the ../code/datasets folder\n",
    "subprocess.run([\"python\", \"../code/features/country_and_variable_mapping.py\"])"
   ]
  },
  {
   "cell_type": "code",
   "execution_count": null,
   "metadata": {},
   "outputs": [],
   "source": [
    "# Load country_name_mapping dictionary\n",
    "with open('../code/datasets/country_name_mapping.json', 'r') as json_file:\n",
    "    country_name_mapping = json.load(json_file)\n",
    "# Load variable_name_mapping dictionary\n",
    "with open('../code/datasets/variable_name_mapping.json', 'r') as json_file:\n",
    "    variable_name_mapping = json.load(json_file)"
   ]
  },
  {
   "cell_type": "markdown",
   "metadata": {},
   "source": [
    "## **DATA DICTIONARY** (Health Expenditure Data)\n",
    "| Column Name        | Description                                                                             |\n",
    "|--------------------|-----------------------------------------------------------------------------------------|\n",
    "| country            | Country name                                                                            |\n",
    "| year               | Expenditure values of years 2010 - 2019                                                 |\n",
    "| HEALTH_EXP         | Health expenditure expressed as % GDP (does not include buildings, machinery, IT, stocks of vaccines; see [here](https://databank.worldbank.org/reports.aspx?source=2&series=SH.XPD.CHEX.GD.ZS&country=#) |\n",
    "| ISO_3166-1_alpha-3 | Three-letter country code; see [here](https://en.wikipedia.org/wiki/ISO_3166-1_alpha-3) |"
   ]
  },
  {
   "cell_type": "code",
   "execution_count": null,
   "metadata": {},
   "outputs": [],
   "source": [
    "# Load health expenditure data\n",
    "health_exp_raw = dd.load_health_exp_data()\n",
    "# Clean health expenditure data\n",
    "# This will create a .csv file in the ../data/processed folder\n",
    "health_exp_clean = dc.clean_health_exp_data(health_exp_raw, country_name_mapping)\n",
    "#print(health_exp_clean.head())"
   ]
  },
  {
   "cell_type": "markdown",
   "metadata": {},
   "source": [
    "## **DATA DICTIONARY** (Environment Expenditure Data)\n",
    "| **Column Name**    | **Description**                                                                         |\n",
    "|--------------------|-----------------------------------------------------------------------------------------|\n",
    "| country            | Short names of countries                                                                |\n",
    "| ISO_3166_1_alpha_3 | Three-letter country code; see [here](https://en.wikipedia.org/wiki/ISO_3166-1_alpha-3) |\n",
    "| year               | Year of environmental expenditure                                                       |\n",
    "| ENV_EXP_TOTAL      | Total environmental expenditure in % GDP                                                |"
   ]
  },
  {
   "cell_type": "code",
   "execution_count": null,
   "metadata": {},
   "outputs": [],
   "source": [
    "# Load environment expenditure data\n",
    "env_exp_raw = dd.fetch_env_exp_data()\n",
    "# Clean environment expenditure data\n",
    "# This will create a .csv file in the ../data/processed folder\n",
    "env_exp_clean = dc.clean_env_exp_data(env_exp_raw, country_name_mapping, variable_name_mapping)\n",
    "#print(env_exp_clean.head())"
   ]
  },
  {
   "cell_type": "markdown",
   "metadata": {},
   "source": [
    "## **DATA DICTIONARY** (Environmental Burden of Disease Data)\n",
    "| Column Name                  | Description                                                               |\n",
    "|------------------------------|---------------------------------------------------------------------------|\n",
    "| country                      | Country names (shortened)                                                 |\n",
    "| year                         | Years of measurement (2010 - 2019)                                        |\n",
    "| OZONE_POLLUTION              | DALYs per 100,000 accountable to ozone pollution                          |\n",
    "| PARTICULATE_MATTER_POLLUTION | DALYs per 100,000 accountable to particulate matter pollution             |\n",
    "| HIGH_TEMP                    | DALYs per 100,000 accountable to high temperature                         |\n",
    "| LOW_TEMP                     | DALYs per 100,000 accountable to low temperature                          |\n",
    "| LEAD_EXPOSURE                | DALYs per 100,000 accountable to lead exposure                            |\n",
    "| RESIDENTIAL_RADON            | DALYs per 100,000 accountable to residential radon                        |\n",
    "| NO_ACCESS_HANDWASHING        | DALYs per 100,000 accountable to lack of access to handwashing facilities |\n",
    "| UNSAFE_SANITATION            | DALYs per 100,000 accountable to unsafe sanitation                        |\n",
    "| UNSAFE_WATER_SOURCE          | DALYs per 100,000 accountable to unsafe water sources                     |"
   ]
  },
  {
   "cell_type": "code",
   "execution_count": null,
   "metadata": {},
   "outputs": [],
   "source": [
    "# Load environmental burden data\n",
    "env_burden_raw = dd.load_env_burden_data()\n",
    "# Clean environmental burden data\n",
    "# This will create a .csv file in the ../data/processed folder\n",
    "env_burden_clean = dc.clean_env_burden_data(env_burden_raw, country_name_mapping, variable_name_mapping)\n",
    "#print(env_burden_clean.head())"
   ]
  },
  {
   "cell_type": "code",
   "execution_count": null,
   "metadata": {},
   "outputs": [],
   "source": [
    "# Inner join data on country names and years\n",
    "# Countries without expenditures reported will be removed from dataset\n",
    "expenditures_merged = pd.merge(health_exp_clean, env_exp_clean, on=['country','year','ISO_3166_1_alpha_3'], how='inner') # merge expenditures\n",
    "env_burden_data = pd.merge(expenditures_merged, env_burden_clean, on=['country','year','ISO_3166_1_alpha_3'], how='inner') # merge with burden of disease indicators\n",
    "env_burden_data.to_csv('../code/datasets/env_burden_data.csv', index=False)\n",
    "print('Data merged and saved succesfully\\n')\n",
    "display(env_burden_data.dtypes)\n",
    "env_burden_data"
   ]
  },
  {
   "cell_type": "markdown",
   "metadata": {},
   "source": [
    "# **DATA DICTIONARY**\n",
    "| Column Name                  | Description                                                               |\n",
    "|------------------------------|---------------------------------------------------------------------------|\n",
    "| country                      | Country names (shortened)                                                 |\n",
    "| year                         | Years of measurement (2010 - 2019)                                        |\n",
    "| HEALTH_EXP                   | Health expenditure expressed as % GDP (does not include buildings, machinery, IT, stocks of vaccines; see [here](https://databank.worldbank.org/reports.aspx?source=2&series=SH.XPD.CHEX.GD.ZS&country=#))                 |\n",
    "| ENV_EXP_TOTAL                | Total environmental expenditure in % GDP                                  |\n",
    "| OZONE_POLLUTION              | DALYs per 100,000 accountable to ozone pollution                          |\n",
    "| HIGH_TEMP                    | DALYs per 100,000 accountable to high temperature                         |\n",
    "| LEAD_EXPOSURE                | DALYs per 100,000 accountable to lead exposure                            |\n",
    "| LOW_TEMP                     | DALYs per 100,000 accountable to low temperature                          |\n",
    "| NO_ACCESS_HANDWASHING        | DALYs per 100,000 accountable to lack of access to handwashing facilities |\n",
    "| PARTICULATE_MATTER_POLLUTION | DALYs per 100,000 accountable to particulate matter pollution             |\n",
    "| RESIDENTIAL_RADON            | DALYs per 100,000 accountable to residential radon                        |\n",
    "| UNSAFE_SANITATION            | DALYs per 100,000 accountable to unsafe sanitation                        |\n",
    "| UNSAFE_WATER_SOURCE          | DALYs per 100,000 accountable to unsafe water sources                     |"
   ]
  },
  {
   "cell_type": "markdown",
   "metadata": {},
   "source": [
    "# **Exploratory Analyses**"
   ]
  },
  {
   "cell_type": "markdown",
   "metadata": {},
   "source": [
    "## Summary statistics"
   ]
  },
  {
   "cell_type": "code",
   "execution_count": null,
   "metadata": {},
   "outputs": [],
   "source": [
    "# Calculate basic summary stats across years 2010-2019\n",
    "DALY_indicators_to_include = ['DALY_OZONE_POLLUTION','DALY_HIGH_TEMP','DALY_LOW_TEMP','DALY_NO_ACCESS_HANDWASHING',\n",
    "                              'DALY_PARTICULATE_MATTER_POLLUTION','DALY_UNSAFE_SANITATION','DALY_UNSAFE_WATER_SOURCE']\n",
    "summary_stats = pd.DataFrame({\n",
    "    'mean': env_burden_clean[DALY_indicators_to_include].mean(), # arithmetic mean (= average)\n",
    "    'median': env_burden_data[DALY_indicators_to_include].median(), # median\n",
    "    'mode': env_burden_data[DALY_indicators_to_include].mode().iloc[0], # first value of mode\n",
    "    'std': env_burden_data[DALY_indicators_to_include].std(), # standard deviation\n",
    "    'min': env_burden_data[DALY_indicators_to_include].min(), # maximum\n",
    "    'max': env_burden_data[DALY_indicators_to_include].max(), # minimum\n",
    "    'unit': ['DALY per 100,000'] * len(env_burden_data[DALY_indicators_to_include].columns) # units of measurement\n",
    "})\n",
    "display(summary_stats)"
   ]
  },
  {
   "cell_type": "markdown",
   "metadata": {},
   "source": [
    "## Expenditure exploration"
   ]
  },
  {
   "cell_type": "code",
   "execution_count": null,
   "metadata": {},
   "outputs": [],
   "source": [
    "# Variation of expenditures (% GDP) over years 2010-2019\n",
    "expenditures_melted = pd.melt(env_burden_data,\n",
    "                              id_vars=['country', 'year'], \n",
    "                              value_vars=['HEALTH_EXP', 'ENV_EXP_TOTAL'],\n",
    "                              var_name='category', value_name='expenditure') # melt data for use in seaborn \n",
    "# Create a grid for the plots\n",
    "fig = plt.figure(figsize=(8, 4))\n",
    "gs = GridSpec(nrows=2, ncols=2, width_ratios=[2, 1])\n",
    "# Health expenditure over time\n",
    "ax0 = fig.add_subplot(gs[0, 0])\n",
    "sns.lineplot(data=expenditures_melted[expenditures_melted['category'] == 'HEALTH_EXP'],\n",
    "             x='year', y='expenditure', hue='category', err_kws={'fc': 'gray'}, ax=ax0)\n",
    "ax0.set_title('Health expenditure over time')\n",
    "ax0.legend().remove()\n",
    "ax0.set_xlabel('')\n",
    "ax0.set_ylabel('Expenditure in % GDP')\n",
    "ax0.lines[0].set_color('gray')\n",
    "# Line plots on the first subplot\n",
    "ax1 = fig.add_subplot(gs[1, 0])\n",
    "sns.lineplot(data=expenditures_melted[expenditures_melted['category'] == 'ENV_EXP_TOTAL'],\n",
    "             x='year', y='expenditure', hue='category', err_kws={'fc': 'gray'}, ax=ax1)\n",
    "ax1.set_title('Environmental expenditure over time')\n",
    "ax1.legend().remove()\n",
    "ax1.set_xlabel('Years')\n",
    "ax1.set_ylabel('Expenditure in % GDP')\n",
    "ax1.lines[0].set_color('gray')\n",
    "# Violin plot showing the distribution of expenditures\n",
    "ax2 = fig.add_subplot(gs[:, 1])\n",
    "sns.violinplot(x='category', y='expenditure', data=expenditures_melted, color=\"gray\", ax=ax2)\n",
    "ax2.set_title('Distribution of expenditures')\n",
    "ax2.set_xlabel('')\n",
    "ax2.set_xticklabels(['Health','Environment'])\n",
    "ax2.set_ylabel('Expenditure in % GDP')\n",
    "# show plots\n",
    "plt.tight_layout()\n",
    "plt.show()"
   ]
  },
  {
   "cell_type": "markdown",
   "metadata": {},
   "source": [
    "## Top 3 countries with highest/lowest expenditures"
   ]
  },
  {
   "cell_type": "code",
   "execution_count": null,
   "metadata": {},
   "outputs": [],
   "source": [
    "# Calculate median and sort according to health expenditure\n",
    "data_by_health = env_burden_data.groupby('country').apply(lambda x: x.drop(['year','ISO_3166_1_alpha_3'], axis=1).median()).reset_index()\n",
    "data_by_health = data_by_health.sort_values(by='HEALTH_EXP', ascending=False)\n",
    "print(data_by_health.head())"
   ]
  },
  {
   "cell_type": "code",
   "execution_count": null,
   "metadata": {},
   "outputs": [],
   "source": [
    "# Calculate median and sort according to health expenditure\n",
    "data_by_environment = env_burden_data.groupby('country').apply(lambda x: x.drop(['year','ISO_3166_1_alpha_3'], axis=1).median()).reset_index()\n",
    "data_by_environment = data_by_environment.sort_values(by='ENV_EXP_TOTAL', ascending=False)\n",
    "print(data_by_environment.head())"
   ]
  },
  {
   "cell_type": "code",
   "execution_count": null,
   "metadata": {},
   "outputs": [],
   "source": [
    "# Create a 2-by-2 bar chart\n",
    "fig, axes = plt.subplots(nrows=2, ncols=2, figsize=(10, 5))\n",
    "# Top 5 with highest health expenditure\n",
    "sns.barplot(x='HEALTH_EXP', y='country', data=data_by_health.head(5), ax=axes[0, 0], color='#404040')\n",
    "axes[0, 0].set_title('Top 5 Countries: Highest Health Expenditure (% GDP)')\n",
    "axes[0, 0].set_xlabel('')\n",
    "axes[0, 0].set_ylabel('')\n",
    "# Top 5 with highest environment expenditure\n",
    "sns.barplot(x='ENV_EXP_TOTAL', y='country', data=data_by_environment.head(5), ax=axes[0, 1], color='#404040')\n",
    "axes[0, 1].set_title('Top 5 Countries: Highest Environment Expenditure (% GDP)')\n",
    "axes[0, 1].set_xlabel(' ')\n",
    "axes[0, 1].set_ylabel('')\n",
    "# Top 5 with least health expenditure\n",
    "sns.barplot(x='HEALTH_EXP', y='country', data=data_by_health.tail(5), ax=axes[1, 0], color='#b5b5b5')\n",
    "axes[1, 0].set_title('Top 5 Countries: Least Health Expenditure (% GDP)')\n",
    "axes[1, 0].set_xlabel(' ')\n",
    "axes[1, 0].set_ylabel('')\n",
    "# Top 5 with least environemnt expenditure\n",
    "sns.barplot(x='ENV_EXP_TOTAL', y='country', data=data_by_environment.tail(5), ax=axes[1, 1], color='#b5b5b5')\n",
    "axes[1, 1].set_title('Top 5 Countries: Least Environment Expenditure (% GDP)')\n",
    "axes[1, 1].set_xlabel(' ')\n",
    "axes[1, 1].set_ylabel('')\n",
    "plt.tight_layout()\n",
    "plt.show()"
   ]
  },
  {
   "cell_type": "markdown",
   "metadata": {},
   "source": [
    "## **DALY indicator exploration**"
   ]
  },
  {
   "cell_type": "code",
   "execution_count": null,
   "metadata": {},
   "outputs": [],
   "source": [
    "# Melt the DataFrame to convert it from wide to long format\n",
    "melted_indicators = (env_burden_data\n",
    "                     .drop(columns=['HEALTH_EXP','ENV_EXP_TOTAL'])\n",
    "                     .melt(id_vars=['country', 'year','ISO_3166_1_alpha_3'], var_name='feature', value_name='value'))\n",
    "# Visualize indicators across years\n",
    "plt.figure(figsize=(10, 6))\n",
    "sns.lineplot(data=melted_indicators, x='year', y='value', hue='feature')\n",
    "plt.title('DALY indicators over the years 2010-2019')\n",
    "plt.xlabel('Year')\n",
    "plt.ylabel('Value')\n",
    "plt.xticks(rotation=45)\n",
    "plt.legend(loc='upper left', bbox_to_anchor=(1,1), ncol=1)\n",
    "plt.tight_layout()\n",
    "plt.show()"
   ]
  },
  {
   "cell_type": "code",
   "execution_count": null,
   "metadata": {},
   "outputs": [],
   "source": [
    "# Melt the DataFrame to convert it from wide to long format\n",
    "melted_indicators = (env_burden_data\n",
    "                     .drop(columns=['HEALTH_EXP','ENV_EXP_TOTAL','DALY_PARTICULATE_MATTER_POLLUTION'])\n",
    "                     .melt(id_vars=['country', 'year','ISO_3166_1_alpha_3'], var_name='feature', value_name='value'))\n",
    "# Visualize indicators across years\n",
    "plt.figure(figsize=(10, 6))\n",
    "sns.lineplot(data=melted_indicators, x='year', y='value', hue='feature')\n",
    "plt.title('DALY indicators over the years 2010-2019')\n",
    "plt.xlabel('Year')\n",
    "plt.ylabel('Value')\n",
    "plt.xticks(rotation=45)\n",
    "plt.legend(loc='upper left', bbox_to_anchor=(1,1), ncol=1)\n",
    "plt.tight_layout()\n",
    "plt.show()"
   ]
  },
  {
   "cell_type": "markdown",
   "metadata": {},
   "source": [
    "## Outlier analysis"
   ]
  },
  {
   "cell_type": "code",
   "execution_count": null,
   "metadata": {},
   "outputs": [],
   "source": [
    "# Conduct principal components analysis (PCA)\n",
    "# Presets\n",
    "numerical_features = env_burden_data.drop(columns=['year','HEALTH_EXP','ENV_EXP_TOTAL'], axis=1).select_dtypes(include=['number'])\n",
    "countries = env_burden_data['country']\n",
    "mean_per_country = numerical_features.groupby(countries).mean() # aggregate mean per country\n",
    "z_scores = (mean_per_country - mean_per_country.mean()) / mean_per_country.std() # z-scores to use in PCA instead of raw mean\n",
    "# Calculate PCA\n",
    "pca = PCA(n_components=2) # keep first two components\n",
    "principal_components = pca.fit_transform(z_scores) # calculate scores\n",
    "# Visualize PCA\n",
    "plt.figure(figsize=(10, 6))\n",
    "texts = []\n",
    "for i, country in enumerate(mean_per_country.index):\n",
    "    plt.scatter(principal_components[i, 0], principal_components[i, 1], label=country)\n",
    "    texts.append(plt.text(principal_components[i, 0], principal_components[i, 1], country, fontsize=8, ha='left', va='bottom'))\n",
    "adjust_text(texts, arrowprops=dict(arrowstyle=\"->\", color='r', alpha=0.5))\n",
    "plt.title('Principal Components Analysis')\n",
    "plt.xlabel('Principal Component 1')\n",
    "plt.ylabel('Principal Component 2')\n",
    "plt.legend(ncol=3, loc='upper left', bbox_to_anchor=(1, 1))\n",
    "plt.grid(True)\n",
    "loadings = pca.components_.T # add loadings\n",
    "texts_loadings = []\n",
    "for i, feature in enumerate(mean_per_country.columns):\n",
    "    arrow_length = np.sqrt(loadings[i, 0]**2 + loadings[i, 1]**2)\n",
    "    label_offset = 0.5 * arrow_length\n",
    "    plt.arrow(0, 0, loadings[i, 0]*1.5, loadings[i, 1]*5, color='r', alpha=0.5, head_width=0.05)\n",
    "    texts_loadings.append(plt.text(loadings[i, 0]*1.5 + label_offset, loadings[i, 1]*5, feature, color='g',\n",
    "                                   fontsize=8, ha='left', va='bottom'))\n",
    "adjust_text(texts_loadings, arrowprops=dict(arrowstyle=\"->\", color='r', alpha=0.5))\n",
    "plt.show()"
   ]
  },
  {
   "cell_type": "markdown",
   "metadata": {},
   "source": [
    "## Feature correlation"
   ]
  },
  {
   "cell_type": "code",
   "execution_count": null,
   "metadata": {},
   "outputs": [],
   "source": [
    "# Create heatmap\n",
    "plt.figure(figsize=(10, 4))\n",
    "heatmap_features = sns.heatmap(env_burden_data.select_dtypes(include=['float64']).corr(), vmin=-1, vmax=1, annot=True, cmap='BrBG', annot_kws={\"fontsize\": 8})\n",
    "heatmap_features.set_xticklabels(heatmap_features.get_xticklabels(), fontsize=8)\n",
    "heatmap_features.set_yticklabels(heatmap_features.get_yticklabels(), fontsize=8)\n",
    "heatmap_features.set_title('Features correlating with health and environmental expenditures per country', fontdict={'fontsize':10}, pad=20)\n",
    "plt.show()"
   ]
  },
  {
   "cell_type": "code",
   "execution_count": null,
   "metadata": {},
   "outputs": [],
   "source": [
    "# Create heatmap specific to expenditures\n",
    "plt.figure(figsize=(4, 4))\n",
    "heatmap_specific = sns.heatmap(env_burden_data.select_dtypes(include=['float64']).corr()[['HEALTH_EXP', 'ENV_EXP_TOTAL']].sort_values(by='HEALTH_EXP', ascending=False), vmin=-1, vmax=1, annot=True, cmap='BrBG', annot_kws={\"fontsize\": 8})\n",
    "heatmap_specific.set_xticklabels(heatmap_specific.get_xticklabels(), fontsize=8)\n",
    "heatmap_specific.set_yticklabels(heatmap_specific.get_yticklabels(), fontsize=8)\n",
    "heatmap_specific.set_title('Features correlating with health and environmental expenditures per country', fontdict={'fontsize':10}, pad=20)\n",
    "plt.show()"
   ]
  },
  {
   "cell_type": "markdown",
   "metadata": {},
   "source": [
    "## Repository Link\n",
    "\n",
    "The original repository containing the code used in this analysis can be found [here](https://github.com/silvia-eckert)."
   ]
  }
 ],
 "metadata": {
  "kernelspec": {
   "display_name": "base",
   "language": "python",
   "name": "python3"
  },
  "language_info": {
   "codemirror_mode": {
    "name": "ipython",
    "version": 3
   },
   "file_extension": ".py",
   "mimetype": "text/x-python",
   "name": "python",
   "nbconvert_exporter": "python",
   "pygments_lexer": "ipython3",
   "version": "3.9.18"
  }
 },
 "nbformat": 4,
 "nbformat_minor": 2
}
